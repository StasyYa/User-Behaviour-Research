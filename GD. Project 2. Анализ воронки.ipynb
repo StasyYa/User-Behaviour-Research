{
 "cells": [
  {
   "cell_type": "markdown",
   "metadata": {},
   "source": [
    "# Гипотезы (задачи)\n",
    "1. <b>Отличается ли время прохождения различных этапов для пользователей, которые прошли обучение, от пользователей, не начинавших обучение.</b> Насколько обучение сокращает время прохождения этапов?\n",
    "<br>✔ По идее, должна быть разница в поведении групп, которые проходят и не проходят обучение. Но так ли это? Влияет ли обучение на скорость прохождения других этапов игры?\n",
    "\n",
    "\n",
    "2. <b>Cуществует ли зависимость между вероятностью оплаты и количеством обучений, которые начинал или завершал пользователь.</b> Нужно доказать, что успешное обучение само по себе влияет на оплату, и без разницы, каким этапом оно шло.\n",
    "<br>✔ Кажется, повторное прохождение обучения положительно влияет на оплату, верно?\n",
    "\n",
    "\n",
    "3. <b>Как часто пользователи начинают обучение после того, как они выбрали уровень сложности.</b> Это позволит нам понять, насколько прозрачен процесс взаимодействия с игрой: если пользователи после выбора уровня сложности обращаются к обучению, значит, работа с приложением непонятна.\n",
    "<br>✔Если пользователь сначала выбирает сложность обучения, будет ли он потом проходить обучение?"
   ]
  },
  {
   "cell_type": "code",
   "execution_count": 47,
   "metadata": {},
   "outputs": [],
   "source": [
    "import pandas as pd"
   ]
  },
  {
   "cell_type": "markdown",
   "metadata": {},
   "source": [
    "# Сбор и обработка данных"
   ]
  },
  {
   "cell_type": "code",
   "execution_count": 48,
   "metadata": {},
   "outputs": [],
   "source": [
    "# Отберем события, которые были произведены пользователями, зарегистрированными в 2018 году\n",
    "events_df = pd.read_csv('7_4_Events.csv')\n",
    "registrations_df_2018 = events_df[(events_df.event_type == 'registration')&(events_df.start_time >= '2018-01-01')&(events_df.start_time < '2019-01-01')]\n",
    "registrations_df_2018 = registrations_df_2018.copy() \n",
    "registrated_users_2018 = registrations_df_2018['user_id']\n",
    "events_df_2018 = events_df[events_df['user_id'].isin(registrated_users_2018)]\n",
    "events_df_2018 = events_df_2018.copy()\n",
    "\n",
    "# Отберем оплаты, которые были произведены пользователями, зарегистрированными в 2018 году\n",
    "purchase_df = pd.read_csv('7_4_Purchase.csv')\n",
    "purchase_df_2018 = purchase_df[purchase_df['user_id'].isin(registrated_users_2018)]\n",
    "purchase_df_2018 = purchase_df_2018.copy()"
   ]
  },
  {
   "cell_type": "code",
   "execution_count": 49,
   "metadata": {},
   "outputs": [
    {
     "data": {
      "text/html": [
       "<div>\n",
       "<style scoped>\n",
       "    .dataframe tbody tr th:only-of-type {\n",
       "        vertical-align: middle;\n",
       "    }\n",
       "\n",
       "    .dataframe tbody tr th {\n",
       "        vertical-align: top;\n",
       "    }\n",
       "\n",
       "    .dataframe thead th {\n",
       "        text-align: right;\n",
       "    }\n",
       "</style>\n",
       "<table border=\"1\" class=\"dataframe\">\n",
       "  <thead>\n",
       "    <tr style=\"text-align: right;\">\n",
       "      <th></th>\n",
       "      <th>id</th>\n",
       "      <th>event_type</th>\n",
       "      <th>selected_level</th>\n",
       "      <th>start_time</th>\n",
       "      <th>tutorial_id</th>\n",
       "      <th>user_id</th>\n",
       "    </tr>\n",
       "  </thead>\n",
       "  <tbody>\n",
       "    <tr>\n",
       "      <th>51405</th>\n",
       "      <td>80308</td>\n",
       "      <td>registration</td>\n",
       "      <td>NaN</td>\n",
       "      <td>2018-01-01T03:48:40</td>\n",
       "      <td>NaN</td>\n",
       "      <td>27832</td>\n",
       "    </tr>\n",
       "  </tbody>\n",
       "</table>\n",
       "</div>"
      ],
      "text/plain": [
       "          id    event_type selected_level           start_time  tutorial_id  \\\n",
       "51405  80308  registration            NaN  2018-01-01T03:48:40          NaN   \n",
       "\n",
       "       user_id  \n",
       "51405    27832  "
      ]
     },
     "execution_count": 49,
     "metadata": {},
     "output_type": "execute_result"
    }
   ],
   "source": [
    "# Посмотрим шапку в ДФ по событиям\n",
    "events_df_2018.head(1)"
   ]
  },
  {
   "cell_type": "code",
   "execution_count": 50,
   "metadata": {},
   "outputs": [
    {
     "data": {
      "text/plain": [
       "array(['registration', 'tutorial_start', 'tutorial_finish',\n",
       "       'level_choice', 'pack_choice'], dtype=object)"
      ]
     },
     "execution_count": 50,
     "metadata": {},
     "output_type": "execute_result"
    }
   ],
   "source": [
    "# Проверим, какие события есть (все соответствуют flow)\n",
    "events_df_2018['event_type'].unique()"
   ]
  },
  {
   "cell_type": "code",
   "execution_count": 51,
   "metadata": {},
   "outputs": [
    {
     "data": {
      "text/html": [
       "<div>\n",
       "<style scoped>\n",
       "    .dataframe tbody tr th:only-of-type {\n",
       "        vertical-align: middle;\n",
       "    }\n",
       "\n",
       "    .dataframe tbody tr th {\n",
       "        vertical-align: top;\n",
       "    }\n",
       "\n",
       "    .dataframe thead th {\n",
       "        text-align: right;\n",
       "    }\n",
       "</style>\n",
       "<table border=\"1\" class=\"dataframe\">\n",
       "  <thead>\n",
       "    <tr style=\"text-align: right;\">\n",
       "      <th></th>\n",
       "      <th>id</th>\n",
       "      <th>user_id</th>\n",
       "      <th>event_datetime</th>\n",
       "      <th>amount</th>\n",
       "    </tr>\n",
       "  </thead>\n",
       "  <tbody>\n",
       "    <tr>\n",
       "      <th>1171</th>\n",
       "      <td>16845</td>\n",
       "      <td>27845</td>\n",
       "      <td>2018-01-03T18:53:43</td>\n",
       "      <td>100</td>\n",
       "    </tr>\n",
       "  </tbody>\n",
       "</table>\n",
       "</div>"
      ],
      "text/plain": [
       "         id  user_id       event_datetime  amount\n",
       "1171  16845    27845  2018-01-03T18:53:43     100"
      ]
     },
     "execution_count": 51,
     "metadata": {},
     "output_type": "execute_result"
    }
   ],
   "source": [
    "# Посмотрим шапку в ДФ по оплатам\n",
    "purchase_df_2018.head(1)"
   ]
  },
  {
   "cell_type": "markdown",
   "metadata": {},
   "source": [
    "#### Проверка на пропущенные значения, дубли и типы данных:"
   ]
  },
  {
   "cell_type": "code",
   "execution_count": 52,
   "metadata": {},
   "outputs": [
    {
     "name": "stdout",
     "output_type": "stream",
     "text": [
      "<class 'pandas.core.frame.DataFrame'>\n",
      "Int64Index: 66959 entries, 51405 to 118364\n",
      "Data columns (total 6 columns):\n",
      " #   Column          Non-Null Count  Dtype  \n",
      "---  ------          --------------  -----  \n",
      " 0   id              66959 non-null  int64  \n",
      " 1   event_type      66959 non-null  object \n",
      " 2   selected_level  8342 non-null   object \n",
      " 3   start_time      66959 non-null  object \n",
      " 4   tutorial_id     32954 non-null  float64\n",
      " 5   user_id         66959 non-null  int64  \n",
      "dtypes: float64(1), int64(2), object(3)\n",
      "memory usage: 3.6+ MB\n"
     ]
    }
   ],
   "source": [
    "events_df_2018.info()"
   ]
  },
  {
   "cell_type": "code",
   "execution_count": 53,
   "metadata": {},
   "outputs": [
    {
     "data": {
      "text/plain": [
       "1.0"
      ]
     },
     "execution_count": 53,
     "metadata": {},
     "output_type": "execute_result"
    }
   ],
   "source": [
    "# Дубли\n",
    "events_df_2018['id'].value_counts().mean()"
   ]
  },
  {
   "cell_type": "code",
   "execution_count": 54,
   "metadata": {
    "scrolled": true
   },
   "outputs": [
    {
     "data": {
      "text/plain": [
       "array(['level_choice'], dtype=object)"
      ]
     },
     "execution_count": 54,
     "metadata": {},
     "output_type": "execute_result"
    }
   ],
   "source": [
    "# Пропуски в selected_level\n",
    "research_selected_level = events_df_2018.dropna(subset=['selected_level'])\n",
    "research_selected_level['event_type'].unique()"
   ]
  },
  {
   "cell_type": "code",
   "execution_count": 55,
   "metadata": {},
   "outputs": [
    {
     "data": {
      "text/plain": [
       "array(['medium', 'hard', 'easy'], dtype=object)"
      ]
     },
     "execution_count": 55,
     "metadata": {},
     "output_type": "execute_result"
    }
   ],
   "source": [
    "# значения selected_level без пропусков\n",
    "research_selected_level['selected_level'].unique()"
   ]
  },
  {
   "cell_type": "code",
   "execution_count": 56,
   "metadata": {},
   "outputs": [
    {
     "data": {
      "text/plain": [
       "array(['tutorial_start', 'tutorial_finish'], dtype=object)"
      ]
     },
     "execution_count": 56,
     "metadata": {},
     "output_type": "execute_result"
    }
   ],
   "source": [
    "# Пропуски в tutorial_id\n",
    "research_tutorial_id = events_df_2018[events_df_2018['tutorial_id'] > 0 ]\n",
    "research_tutorial_id['event_type'].unique()"
   ]
  },
  {
   "cell_type": "code",
   "execution_count": 57,
   "metadata": {},
   "outputs": [
    {
     "name": "stdout",
     "output_type": "stream",
     "text": [
      "<class 'pandas.core.frame.DataFrame'>\n",
      "Int64Index: 1600 entries, 1171 to 2778\n",
      "Data columns (total 4 columns):\n",
      " #   Column          Non-Null Count  Dtype \n",
      "---  ------          --------------  ----- \n",
      " 0   id              1600 non-null   int64 \n",
      " 1   user_id         1600 non-null   int64 \n",
      " 2   event_datetime  1600 non-null   object\n",
      " 3   amount          1600 non-null   int64 \n",
      "dtypes: int64(3), object(1)\n",
      "memory usage: 62.5+ KB\n"
     ]
    }
   ],
   "source": [
    "purchase_df_2018.info()"
   ]
  },
  {
   "cell_type": "code",
   "execution_count": 58,
   "metadata": {
    "scrolled": true
   },
   "outputs": [
    {
     "data": {
      "text/plain": [
       "1.0"
      ]
     },
     "execution_count": 58,
     "metadata": {},
     "output_type": "execute_result"
    }
   ],
   "source": [
    "# Дубли\n",
    "purchase_df_2018['id'].value_counts().mean()"
   ]
  },
  {
   "cell_type": "markdown",
   "metadata": {},
   "source": [
    "## Выводы после сбора данных\n",
    "<b><u>По ДФ событий</u></b>:\n",
    "\n",
    "✔Всего строк 66959. Дублей строк по id нет.\n",
    "<br>✔<b>selected_level и tutorial_id не всегда имеют значения, но это объясняется особенностями ДФ:</b>\n",
    "<br> - столбец selected_level не заполнен для всех событий кроме level_choice, что логично, поскольку уровень сложности (medium', 'hard', 'easy') выбирается только на событии выбора уровня сложности (level_choice)\n",
    "<br> - tutorial_id заполнен только для событий обучения (tutorial_start', 'tutorial_finish)\n",
    "<br>✔Также поле start_time имеет тип object, поэтому его нужно привести к типу datetime\n",
    "\n",
    "\n",
    "<b><u>По ДФ покупок</u></b>:\n",
    "\n",
    "✔Всего строк 1600. Дублей строк по id нет. Все строки не пустые.\n",
    "<br>✔Поле event_datetime имеет тип object, поэтому его нужно привести к типу datetime"
   ]
  },
  {
   "cell_type": "markdown",
   "metadata": {},
   "source": [
    "#### Преобразование типов"
   ]
  },
  {
   "cell_type": "code",
   "execution_count": 59,
   "metadata": {
    "scrolled": true
   },
   "outputs": [],
   "source": [
    "events_df_2018['start_time'] = pd.to_datetime(events_df_2018['start_time'], format='%Y-%m-%dT%H:%M:%S')\n",
    "purchase_df_2018['event_datetime'] = pd.to_datetime(purchase_df_2018['event_datetime'], format='%Y-%m-%dT%H:%M:%S')\n",
    "registrations_df_2018['start_time'] = pd.to_datetime(registrations_df_2018['start_time'], format='%Y-%m-%dT%H:%M:%S')"
   ]
  },
  {
   "cell_type": "code",
   "execution_count": 60,
   "metadata": {},
   "outputs": [
    {
     "name": "stdout",
     "output_type": "stream",
     "text": [
      "<class 'pandas.core.frame.DataFrame'>\n",
      "Int64Index: 66959 entries, 51405 to 118364\n",
      "Data columns (total 6 columns):\n",
      " #   Column          Non-Null Count  Dtype         \n",
      "---  ------          --------------  -----         \n",
      " 0   id              66959 non-null  int64         \n",
      " 1   event_type      66959 non-null  object        \n",
      " 2   selected_level  8342 non-null   object        \n",
      " 3   start_time      66959 non-null  datetime64[ns]\n",
      " 4   tutorial_id     32954 non-null  float64       \n",
      " 5   user_id         66959 non-null  int64         \n",
      "dtypes: datetime64[ns](1), float64(1), int64(2), object(2)\n",
      "memory usage: 3.6+ MB\n"
     ]
    }
   ],
   "source": [
    "events_df_2018.info()"
   ]
  },
  {
   "cell_type": "code",
   "execution_count": 61,
   "metadata": {},
   "outputs": [
    {
     "name": "stdout",
     "output_type": "stream",
     "text": [
      "<class 'pandas.core.frame.DataFrame'>\n",
      "Int64Index: 1600 entries, 1171 to 2778\n",
      "Data columns (total 4 columns):\n",
      " #   Column          Non-Null Count  Dtype         \n",
      "---  ------          --------------  -----         \n",
      " 0   id              1600 non-null   int64         \n",
      " 1   user_id         1600 non-null   int64         \n",
      " 2   event_datetime  1600 non-null   datetime64[ns]\n",
      " 3   amount          1600 non-null   int64         \n",
      "dtypes: datetime64[ns](1), int64(3)\n",
      "memory usage: 62.5 KB\n"
     ]
    }
   ],
   "source": [
    "purchase_df_2018.info()"
   ]
  },
  {
   "cell_type": "markdown",
   "metadata": {},
   "source": [
    "Типы преобразованы"
   ]
  },
  {
   "cell_type": "markdown",
   "metadata": {},
   "source": [
    "# Объединим датафреймы\n",
    "Для поиска ответа по гипотезам, необходимо, чтобы все события и оплаты были в одном ДФ"
   ]
  },
  {
   "cell_type": "code",
   "execution_count": 62,
   "metadata": {},
   "outputs": [],
   "source": [
    "purchase_df_2018['event_type'] = 'purchase' #добавяем столбец\n",
    "# именяем названия столбцов\n",
    "events_df_2018 = events_df_2018.rename(columns={'id':'event_id'}) \n",
    "purchase_df = purchase_df.rename(columns={'id':'purchase_id'})\n",
    "total_events_df_2018 = pd.concat([events_df_2018,purchase_df_2018],sort=False) # объединяем\n",
    "total_events_df_2018 = total_events_df_2018.reset_index(drop=True) # сбрасываем индекс"
   ]
  },
  {
   "cell_type": "markdown",
   "metadata": {},
   "source": [
    "# Проверка гипотезы 1: Отличается ли время прохождения различных этапов для пользователей, которые прошли обучение, от пользователей, не начинавших обучение.\n",
    "✔</b> Насколько обучение сокращает время прохождения этапов?\n",
    "<br>✔</b> По идее, должна быть разница в поведении групп, которые проходят и не проходят обучение. Но так ли это? Влияет ли обучение на скорость прохождения других этапов игры?"
   ]
  },
  {
   "cell_type": "markdown",
   "metadata": {},
   "source": [
    "### Для начала нужно выделить датафреймы с 2 группами пользователей:\n",
    "<b>1 - Пользователи, которые начали и закончили обучение.</b> Т.к. закончить обучение могут только начавшие обучение пользователи, то в данную группу будут входить пользователи, имеющие событие tutorial_finish\n",
    "<br><b>2 - пользователи, которые не начинали обучение</b> Нужно вычислить пользователей, которые начали обучение и исключить их - это и будет группа пользователей, не начинавших обучение\n",
    "\n",
    "** Фактически, могут быть еще группы пользователей, которые начали обучение, но не закончили, но данную группу в рамках первой гипотезы я рассматривать не буду, т.к. она не подходит под условие гипотезы.\n"
   ]
  },
  {
   "cell_type": "code",
   "execution_count": 63,
   "metadata": {},
   "outputs": [],
   "source": [
    " # 1 - пользователи, закончившие обучение\n",
    "tutorial_finish_users = total_events_df_2018[total_events_df_2018['event_type'] == 'tutorial_finish']['user_id']\n",
    "df_with_tutorial_finish_users = total_events_df_2018[total_events_df_2018['user_id'].isin(tutorial_finish_users)]\n",
    "df_with_tutorial_finish_users = df_with_tutorial_finish_users.reset_index(drop=True)\n",
    " # 2 - пользователи, не начинавшие обучение\n",
    "tutorial_start_users = total_events_df_2018[total_events_df_2018['event_type'] == 'tutorial_start']['user_id']\n",
    "df_wo_tutorial_start_users = total_events_df_2018.drop(total_events_df_2018[total_events_df_2018['user_id'].isin(tutorial_start_users)].index)\n",
    "df_wo_tutorial_start_users = df_wo_tutorial_start_users.reset_index(drop=True)\n",
    "wo_tutorial_start_users = df_wo_tutorial_start_users['user_id']"
   ]
  },
  {
   "cell_type": "code",
   "execution_count": 64,
   "metadata": {
    "scrolled": true
   },
   "outputs": [
    {
     "data": {
      "text/plain": [
       "array(['registration', 'tutorial_start', 'tutorial_finish',\n",
       "       'level_choice', 'pack_choice', 'purchase'], dtype=object)"
      ]
     },
     "execution_count": 64,
     "metadata": {},
     "output_type": "execute_result"
    }
   ],
   "source": [
    "df_with_tutorial_finish_users['event_type'].unique()"
   ]
  },
  {
   "cell_type": "code",
   "execution_count": 65,
   "metadata": {
    "scrolled": true
   },
   "outputs": [
    {
     "data": {
      "text/plain": [
       "array(['registration', 'level_choice', 'pack_choice', 'purchase'],\n",
       "      dtype=object)"
      ]
     },
     "execution_count": 65,
     "metadata": {},
     "output_type": "execute_result"
    }
   ],
   "source": [
    "df_wo_tutorial_start_users['event_type'].unique()"
   ]
  },
  {
   "cell_type": "markdown",
   "metadata": {},
   "source": [
    "### Анализ временных промежутков между событиями\n",
    "Как видно по предыдущим 2 строкам, после регистрации общее у обоих групп событие - это level_choice,а далее у двух групп события идут в том же порядке. Поэтому можно проанализировать разницу во времени между следующими событиями:\n",
    "<br>✔ level_choice и registration\n",
    "<br>✔ pack_choice и level_choice\n",
    "<br>✔ purchase и pack_choice\n",
    "<br>✔ purchase и registration\n",
    "\n",
    "Для этого в каждом ДФ нужно выделить все эти события"
   ]
  },
  {
   "cell_type": "markdown",
   "metadata": {},
   "source": [
    "#### Группа 1: level_choice и registration"
   ]
  },
  {
   "cell_type": "code",
   "execution_count": 66,
   "metadata": {},
   "outputs": [
    {
     "data": {
      "text/plain": [
       "1.0"
      ]
     },
     "execution_count": 66,
     "metadata": {},
     "output_type": "execute_result"
    }
   ],
   "source": [
    "registration_df_gr1 = df_with_tutorial_finish_users[df_with_tutorial_finish_users['event_type'] == 'registration']\n",
    "registration_df_gr1 = registration_df_gr1[['user_id','start_time']].rename(columns={'start_time':'registration_time'})\n",
    "registration_df_gr1['user_id'].value_counts().mean()"
   ]
  },
  {
   "cell_type": "code",
   "execution_count": 67,
   "metadata": {},
   "outputs": [
    {
     "data": {
      "text/plain": [
       "1.0"
      ]
     },
     "execution_count": 67,
     "metadata": {},
     "output_type": "execute_result"
    }
   ],
   "source": [
    "level_choice_df_gr1 = df_with_tutorial_finish_users[df_with_tutorial_finish_users['event_type'] == 'level_choice']\n",
    "level_choice_df_gr1 = level_choice_df_gr1[['user_id','start_time']].rename(columns={'start_time':'level_choice_time'})\n",
    "level_choice_df_gr1['user_id'].value_counts().mean()"
   ]
  },
  {
   "cell_type": "code",
   "execution_count": 68,
   "metadata": {},
   "outputs": [
    {
     "name": "stdout",
     "output_type": "stream",
     "text": [
      "Среднее время между level_choice и registration для группы 1: 0 days 07:05:36.854819357\n"
     ]
    }
   ],
   "source": [
    "merged_registration_level_choice_df_gr1 = registration_df_gr1.merge(level_choice_df_gr1,on='user_id',how='inner')\n",
    "merged_registration_level_choice_df_gr1['timedelta'] = merged_registration_level_choice_df_gr1['level_choice_time'] - merged_registration_level_choice_df_gr1['registration_time']\n",
    "merged_registration_level_choice_df_gr1['timedelta'].mean()\n",
    "print ('Среднее время между level_choice и registration для группы 1: {}'.format(merged_registration_level_choice_df_gr1['timedelta'].mean()))"
   ]
  },
  {
   "cell_type": "markdown",
   "metadata": {},
   "source": [
    "Чтобы оптимизировать процесс подсчета временных промежутков, посчитаем их в цикле с условием:"
   ]
  },
  {
   "cell_type": "code",
   "execution_count": 69,
   "metadata": {
    "scrolled": true
   },
   "outputs": [
    {
     "name": "stdout",
     "output_type": "stream",
     "text": [
      "Среднее время между level_choice и registration для gr_1: 0 days 07:05:36.854819357\n",
      "Характеристики времени:\n",
      "count                         7501\n",
      "mean     0 days 07:05:36.854819357\n",
      "std      0 days 04:30:23.231509186\n",
      "min                0 days 00:08:15\n",
      "25%                0 days 03:51:41\n",
      "50%                0 days 06:00:07\n",
      "75%                0 days 09:25:42\n",
      "max                1 days 18:48:25\n",
      "Name: timedelta1, dtype: object\n",
      "_________\n",
      "Среднее время между pack_choice и level_choice для gr_1: 0 days 00:05:18.146058732\n",
      "Характеристики времени:\n",
      "count                         5176\n",
      "mean     0 days 00:05:18.146058732\n",
      "std      0 days 00:02:44.449118501\n",
      "min                0 days 00:00:19\n",
      "25%                0 days 00:03:05\n",
      "50%                0 days 00:04:58\n",
      "75%                0 days 00:07:11\n",
      "max                0 days 00:15:48\n",
      "Name: timedelta2, dtype: object\n",
      "_________\n",
      "Среднее время между purchase и pack_choice для gr_1: 3 days 17:17:59.641326883\n",
      "Характеристики времени:\n",
      "count                         1447\n",
      "mean     3 days 17:17:59.641326883\n",
      "std      2 days 04:31:59.804658578\n",
      "min                0 days 00:44:50\n",
      "25%         1 days 21:16:05.500000\n",
      "50%                3 days 12:15:56\n",
      "75%         5 days 08:53:44.500000\n",
      "max               10 days 18:33:59\n",
      "Name: timedelta3, dtype: object\n",
      "_________\n",
      "Среднее время между purchase и registration для gr_1: 4 days 00:30:03.247408431\n",
      "Характеристики времени:\n",
      "count                         1447\n",
      "mean     4 days 00:30:03.247408431\n",
      "std      2 days 04:47:29.946150698\n",
      "min                0 days 04:36:58\n",
      "25%                2 days 04:09:55\n",
      "50%                3 days 19:04:59\n",
      "75%                5 days 15:46:14\n",
      "max               11 days 00:35:04\n",
      "Name: timedelta4, dtype: object\n",
      "_________\n",
      "Среднее время между level_choice и registration для gr_2: 0 days 05:15:33.122448979\n",
      "Характеристики времени:\n",
      "count                           98\n",
      "mean     0 days 05:15:33.122448979\n",
      "std      0 days 03:41:00.594664298\n",
      "min                0 days 00:09:26\n",
      "25%         0 days 02:15:28.500000\n",
      "50%         0 days 04:56:05.500000\n",
      "75%                0 days 08:24:01\n",
      "max                0 days 18:34:21\n",
      "Name: timedelta1, dtype: object\n",
      "_________\n",
      "Среднее время между pack_choice и level_choice для gr_2: 0 days 00:05:23.824324324\n",
      "Характеристики времени:\n",
      "count                           74\n",
      "mean     0 days 00:05:23.824324324\n",
      "std      0 days 00:03:01.230146431\n",
      "min                0 days 00:00:48\n",
      "25%         0 days 00:03:09.750000\n",
      "50%         0 days 00:04:46.500000\n",
      "75%         0 days 00:07:11.250000\n",
      "max                0 days 00:13:32\n",
      "Name: timedelta2, dtype: object\n",
      "_________\n",
      "Среднее время между purchase и pack_choice для gr_2: 4 days 04:49:33.590909090\n",
      "Характеристики времени:\n",
      "count                           22\n",
      "mean     4 days 04:49:33.590909090\n",
      "std      2 days 04:58:40.602573417\n",
      "min                0 days 09:35:48\n",
      "25%                2 days 15:49:22\n",
      "50%                4 days 04:38:42\n",
      "75%         5 days 23:34:55.750000\n",
      "max                7 days 11:56:49\n",
      "Name: timedelta3, dtype: object\n",
      "_________\n",
      "Среднее время между purchase и registration для gr_2: 4 days 09:06:01.909090909\n",
      "Характеристики времени:\n",
      "count                           22\n",
      "mean     4 days 09:06:01.909090909\n",
      "std      2 days 05:12:16.748091626\n",
      "min                0 days 09:59:07\n",
      "25%                2 days 21:31:31\n",
      "50%                4 days 11:29:09\n",
      "75%         6 days 02:28:47.750000\n",
      "max                7 days 16:46:20\n",
      "Name: timedelta4, dtype: object\n",
      "_________\n"
     ]
    }
   ],
   "source": [
    "user_groups = [\n",
    "    {'gr_1': tutorial_finish_users},\n",
    "    {'gr_2': wo_tutorial_start_users}\n",
    "]\n",
    "\n",
    "for group in user_groups:\n",
    "    user_group = list(group.keys())[0] # gr_1 и gr_2\n",
    "    users_in_group = group[user_group] # tutorial_finish_users и wo_tutorial_start_users\n",
    "    registration_df = total_events_df_2018[(total_events_df_2018['event_type'] == 'registration') & (total_events_df_2018['user_id'].isin(users_in_group))]                      \n",
    "    level_choice_df = total_events_df_2018[(total_events_df_2018['event_type'] == 'level_choice') & (total_events_df_2018['user_id'].isin(users_in_group))]\n",
    "    pack_choice_df = total_events_df_2018[(total_events_df_2018['event_type'] == 'pack_choice') & (total_events_df_2018['user_id'].isin(users_in_group))]\n",
    "    purchase_df = total_events_df_2018[(total_events_df_2018['event_type'] == 'purchase') & (total_events_df_2018['user_id'].isin(users_in_group))]\n",
    "    if (registration_df['user_id'].value_counts().mean()) == 1:\n",
    "        registration_df = registration_df[['user_id','start_time']].rename(columns={'start_time':'registration_time'})\n",
    "        if (level_choice_df['user_id'].value_counts().mean()) == 1:\n",
    "            level_choice_df = level_choice_df[['user_id','start_time']].rename(columns={'start_time':'level_choice_time'})\n",
    "            if (pack_choice_df['user_id'].value_counts().mean()) == 1:\n",
    "                pack_choice_df = pack_choice_df[['user_id','start_time']].rename(columns={'start_time':'pack_choice_time'})\n",
    "                if (purchase_df['user_id'].value_counts().mean()) == 1:\n",
    "                    purchase_df = purchase_df[['user_id','event_datetime']].rename(columns={'event_datetime':'purchase_time'})\n",
    "                    merged_df_1 = level_choice_df.merge(registration_df,on='user_id',how='inner')\n",
    "                    merged_df_2 = pack_choice_df.merge(level_choice_df,on='user_id',how='inner')\n",
    "                    merged_df_3 = purchase_df.merge(pack_choice_df,on='user_id',how='inner')\n",
    "                    merged_df_4 = purchase_df.merge(registration_df,on='user_id',how='inner')\n",
    "                    merged_df_1['timedelta1'] = merged_df_1['level_choice_time'] - merged_df_1['registration_time']\n",
    "                    merged_df_2['timedelta2'] = merged_df_2['pack_choice_time'] - merged_df_2['level_choice_time']\n",
    "                    merged_df_3['timedelta3'] = merged_df_3['purchase_time'] - merged_df_3['pack_choice_time']\n",
    "                    merged_df_4['timedelta4'] = merged_df_4['purchase_time'] - merged_df_4['registration_time']\n",
    "                    mean_time_1 = merged_df_1['timedelta1'].mean()\n",
    "                    mean_time_2 = merged_df_2['timedelta2'].mean()\n",
    "                    mean_time_3 = merged_df_3['timedelta3'].mean()\n",
    "                    mean_time_4 = merged_df_4['timedelta4'].mean()\n",
    "                    print ('Среднее время между level_choice и registration для {}: {}'.format(user_group,mean_time_1))\n",
    "                    print ('Характеристики времени:')\n",
    "                    print (merged_df_1['timedelta1'].describe()) \n",
    "                    print ('_________')\n",
    "                    print ('Среднее время между pack_choice и level_choice для {}: {}'.format(user_group,mean_time_2))\n",
    "                    print ('Характеристики времени:')\n",
    "                    print (merged_df_2['timedelta2'].describe()) \n",
    "                    print ('_________')\n",
    "                    print ('Среднее время между purchase и pack_choice для {}: {}'.format(user_group,mean_time_3))\n",
    "                    print ('Характеристики времени:')\n",
    "                    print (merged_df_3['timedelta3'].describe()) \n",
    "                    print ('_________')\n",
    "                    print ('Среднее время между purchase и registration для {}: {}'.format(user_group,mean_time_4))\n",
    "                    print ('Характеристики времени:')\n",
    "                    print (merged_df_4['timedelta4'].describe()) \n",
    "                    print ('_________')\n",
    "                    if user_group == 'gr_1':\n",
    "                        mean_df_1 = pd.DataFrame ([['lev_ch VS reg',mean_time_1],['pack_ch VS lev_ch', mean_time_2],['pur VS pack_ch',mean_time_3],['pur VS reg',mean_time_4]],columns= ['phases', user_group])\n",
    "                    else:\n",
    "                        mean_df_2 = pd.DataFrame ([['lev_ch VS reg',mean_time_1],['pack_ch VS lev_ch', mean_time_2],['pur VS pack_ch',mean_time_3],['pur VS reg',mean_time_4]],columns= ['phases', user_group])\n",
    "                        mean_df_total = mean_df_1.merge(mean_df_2,on='phases',how='inner') # таблица со средними значениями времени прохождения этапов\n",
    "                else:\n",
    "                    purchase_df = purchase_df.sort_values('event_datetime').drop_duplicates('user_id')\n",
    "                    continue\n",
    "            else:\n",
    "                pack_choice_df = pack_choice_df.sort_values('start_time').drop_duplicates('user_id')\n",
    "                continue\n",
    "        else:\n",
    "            level_choice_df = level_choice_df.sort_values('start_time').drop_duplicates('user_id')\n",
    "            continue\n",
    "    else:\n",
    "        registration_df = registration_df.sort_values('start_time').drop_duplicates('user_id')\n",
    "        continue"
   ]
  },
  {
   "cell_type": "markdown",
   "metadata": {},
   "source": [
    "##### Визуализация\n",
    "Для визуализации переведем столбцы со временем в формат float"
   ]
  },
  {
   "cell_type": "code",
   "execution_count": 70,
   "metadata": {},
   "outputs": [
    {
     "data": {
      "text/html": [
       "<div>\n",
       "<style scoped>\n",
       "    .dataframe tbody tr th:only-of-type {\n",
       "        vertical-align: middle;\n",
       "    }\n",
       "\n",
       "    .dataframe tbody tr th {\n",
       "        vertical-align: top;\n",
       "    }\n",
       "\n",
       "    .dataframe thead th {\n",
       "        text-align: right;\n",
       "    }\n",
       "</style>\n",
       "<table border=\"1\" class=\"dataframe\">\n",
       "  <thead>\n",
       "    <tr style=\"text-align: right;\">\n",
       "      <th></th>\n",
       "      <th>phases</th>\n",
       "      <th>gr_1</th>\n",
       "      <th>gr_2</th>\n",
       "    </tr>\n",
       "  </thead>\n",
       "  <tbody>\n",
       "    <tr>\n",
       "      <th>0</th>\n",
       "      <td>lev_ch VS reg</td>\n",
       "      <td>7.093571</td>\n",
       "      <td>5.259201</td>\n",
       "    </tr>\n",
       "    <tr>\n",
       "      <th>1</th>\n",
       "      <td>pack_ch VS lev_ch</td>\n",
       "      <td>0.088374</td>\n",
       "      <td>0.089951</td>\n",
       "    </tr>\n",
       "    <tr>\n",
       "      <th>2</th>\n",
       "      <td>pur VS pack_ch</td>\n",
       "      <td>89.299900</td>\n",
       "      <td>100.825997</td>\n",
       "    </tr>\n",
       "    <tr>\n",
       "      <th>3</th>\n",
       "      <td>pur VS reg</td>\n",
       "      <td>96.500902</td>\n",
       "      <td>105.100530</td>\n",
       "    </tr>\n",
       "  </tbody>\n",
       "</table>\n",
       "</div>"
      ],
      "text/plain": [
       "              phases       gr_1        gr_2\n",
       "0      lev_ch VS reg   7.093571    5.259201\n",
       "1  pack_ch VS lev_ch   0.088374    0.089951\n",
       "2     pur VS pack_ch  89.299900  100.825997\n",
       "3         pur VS reg  96.500902  105.100530"
      ]
     },
     "execution_count": 70,
     "metadata": {},
     "output_type": "execute_result"
    }
   ],
   "source": [
    "mean_df_total['gr_1']=mean_df_total['gr_1']/pd.Timedelta('1 hour')\n",
    "mean_df_total['gr_2']=mean_df_total['gr_2']/pd.Timedelta('1 hour')\n",
    "mean_df_total"
   ]
  },
  {
   "cell_type": "code",
   "execution_count": 71,
   "metadata": {},
   "outputs": [],
   "source": [
    "import matplotlib.pyplot as plt\n",
    "%matplotlib inline"
   ]
  },
  {
   "cell_type": "code",
   "execution_count": 72,
   "metadata": {},
   "outputs": [
    {
     "data": {
      "text/plain": [
       "<AxesSubplot:title={'center':'Время прохождения различных этапов'}, xlabel='phases'>"
      ]
     },
     "execution_count": 72,
     "metadata": {},
     "output_type": "execute_result"
    },
    {
     "data": {
      "image/png": "[encoded data removed]",
      "text/plain": [
       "<Figure size 432x288 with 1 Axes>"
      ]
     },
     "metadata": {
      "needs_background": "light"
     },
     "output_type": "display_data"
    }
   ],
   "source": [
    "mean_df_total.plot(x= 'phases', kind = 'bar', grid = True, title = 'Время прохождения различных этапов')"
   ]
  },
  {
   "cell_type": "markdown",
   "metadata": {},
   "source": [
    "т.к. результатов по среднему времени между pack_choice и level_choice не видно на графике, отобразим каждый временной промежуток на отдельном графике:"
   ]
  },
  {
   "cell_type": "code",
   "execution_count": 73,
   "metadata": {},
   "outputs": [
    {
     "data": {
      "text/plain": [
       "Text(0, 0.5, 'Часы')"
      ]
     },
     "execution_count": 73,
     "metadata": {},
     "output_type": "execute_result"
    },
    {
     "data": {
      "text/plain": [
       "<Figure size 432x288 with 0 Axes>"
      ]
     },
     "metadata": {},
     "output_type": "display_data"
    },
    {
     "data": {
      "image/png": "[encoded data removed]",
      "text/plain": [
       "<Figure size 864x576 with 4 Axes>"
      ]
     },
     "metadata": {
      "needs_background": "light"
     },
     "output_type": "display_data"
    }
   ],
   "source": [
    "fig = plt.figure()\n",
    "fig, axes = plt.subplots(2, 2, figsize=(12,8))\n",
    "axes[0][0].bar(x = mean_df_total['phases'][0], height = mean_df_total['gr_1'][0], width = 0.4, align = 'edge')\n",
    "axes[0][0].bar(x = mean_df_total['phases'][0], height = mean_df_total['gr_2'][0], width = -0.4, align = 'edge')\n",
    "axes[0][0].set_title('Среднее время между level_choice и registration')\n",
    "axes[0][0].set_ylabel('Часы')\n",
    "\n",
    "axes[0][1].bar(x = mean_df_total['phases'][1], height = mean_df_total['gr_1'][1], width = 0.4, align = 'edge')\n",
    "axes[0][1].bar(x = mean_df_total['phases'][1], height = mean_df_total['gr_2'][1], width = -0.4, align = 'edge')\n",
    "axes[0][1].set_title('Среднее время между pack_choice и level_choice')\n",
    "axes[0][1].set_ylabel('Часы')\n",
    "\n",
    "axes[1][0].bar(x = mean_df_total['phases'][2], height = mean_df_total['gr_1'][2], width = 0.4, align = 'edge')\n",
    "axes[1][0].bar(x = mean_df_total['phases'][2], height = mean_df_total['gr_2'][2], width = -0.4, align = 'edge')\n",
    "axes[1][0].set_title('Среднее время между purchase и pack_choice')\n",
    "axes[1][0].set_ylabel('Часы')\n",
    "\n",
    "axes[1][1].bar(x = mean_df_total['phases'][3], height = mean_df_total['gr_1'][3], width = 0.4, align = 'edge')\n",
    "axes[1][1].bar(x = mean_df_total['phases'][3], height = mean_df_total['gr_2'][3], width = -0.4, align = 'edge')\n",
    "axes[1][1].set_title('Среднее время между purchase и registration')\n",
    "axes[1][1].set_ylabel('Часы')"
   ]
  },
  {
   "cell_type": "markdown",
   "metadata": {},
   "source": [
    "# Выводы по гипотезе 1: Отличается ли время прохождения различных этапов для пользователей, которые прошли обучение, от пользователей, не начинавших обучение.\n",
    "✔</b> Насколько обучение сокращает время прохождения этапов?\n",
    "<br>✔</b> По идее, должна быть разница в поведении групп, которые проходят и не проходят обучение. Но так ли это? Влияет ли обучение на скорость прохождения других этапов игры?\n",
    "\n",
    "<b>Среднее время между level_choice и registration для gr_1: 7ч 5мин. Для gr_2: 5ч 15мин.</b> Это легко объясняется тем, что пользователи, начавшие обучение тратят на него время и приступают к выбору уровня сложности в среднем на 2 часа позже, чем пользователи,не начинавшие обучение. Но если посмотреть на затрачиваемое время 75% пользователей, то увидим, что для группы 1 - это 9ч 25мин, а для 2 группы - это 8ч 24мин, т.е. к выбору уровня сложности пользователи, прошедшие обучение приступают в целом всего лишь на час позже, чем пользователи, не проходившие обучение.\n",
    "\n",
    "<b>Среднее время между pack_choice и level_choice для gr_1: 5мин. Для gr_2: 5мин.</b> Таким образом, обучение не влияет в среднем на скорость выбора вопросов после выбора уровня сложности.\n",
    "\n",
    "<b>Среднее время между purchase и pack_choice для gr_1: 3 дня 17ч 17мин. Для gr_2: 4 дня 04ч 49мин</b> Здесь можно сказать, что пользователи, прошедшие обучение совершают покупку в среднем на 11 часов раньше, чем пользователи, не прошедшие обучение. Вероятно, для пользователей, прошедших обучение более понятно для чего необходимо совершение покупки  и, возможно, более понятно, как совершать эту покупку (технически). Зависит от сути обучения. \n",
    "\n",
    "<b>Среднее время между purchase и registration для gr_1: 4 дня 30мин. Для gr_2: 4 дня 9ч 6мин</b>Таким образом, несмотря на то, что пользователи, прошедшие обучение, тратят на него временя, к покупке после регистрации они переходят все равно быстрее в среднем на 8часов, чем пользователи, не проходившие обучение. Поэтому могу сделать вывод, что обучение влияет на скорость покупки и в целом на скорорость прохождения всех этапов, и несмотря на затраты во времени на обучение, оно сокращает общее время от регистрации до покупки."
   ]
  },
  {
   "cell_type": "markdown",
   "metadata": {},
   "source": [
    "# Проверка гипотезы 2: Cуществует ли зависимость между вероятностью оплаты и количеством обучений, которые начинал или завершал пользователь.</b> \n",
    "<br>✔ Нужно доказать, что успешное обучение само по себе влияет на оплату, и без разницы, каким этапом оно шло.\n",
    "<br>✔ Кажется, повторное прохождение обучения положительно влияет на оплату, верно?"
   ]
  },
  {
   "cell_type": "markdown",
   "metadata": {},
   "source": [
    "<b>Для ответа на вопросы:</b>\n",
    "<br>1. Выделю группу пользователей, которые начали и закончили обучение (tutorial_finish_users) и из них:\n",
    "    <br> 1.1. выделю пользователей которые закончили обучение только 1 раз\n",
    "    <br> 1.2. выделю пользователей которые закончили обучение более 1 раза\n",
    "<br>2. Выделю группу пользователей, которые не начинали обучение или которые начинали, но не закончили (т.е. все, кто его не закончил) - по сути это все остальные пользователи, кто не вошел в гр.1\n",
    "<br>3. Посчитаю % оплат в гр. 1.1. и 1.2. - это будет ответом на вопрос влияет ли количество обучений на совершение оплаты\n",
    "<br>4. Посчитаю % оплат в гр. 2 - это будет ответом на вопрос влияет ли обучение в целом на совершение оплаты"
   ]
  },
  {
   "cell_type": "code",
   "execution_count": 74,
   "metadata": {},
   "outputs": [],
   "source": [
    " # 1 - пользователи, закончившие обучение (всего)\n",
    "tutorial_finish_users_unique = tutorial_finish_users.unique()\n",
    "\n",
    "df_tutorial_finish_users_cnt = tutorial_finish_users.value_counts().reset_index()\n",
    "df_tutorial_finish_users_cnt.columns = ['user_id', 'user_id_cnt']\n",
    " # 1.1 - пользователи, закончившие обучение только 1 раз\n",
    "df_tutorial_finish_users_cnt_1 = df_tutorial_finish_users_cnt[df_tutorial_finish_users_cnt['user_id_cnt'] == 1]\n",
    "tutorial_finish_users_cnt_1 = df_tutorial_finish_users_cnt_1['user_id']"
   ]
  },
  {
   "cell_type": "code",
   "execution_count": 75,
   "metadata": {},
   "outputs": [
    {
     "data": {
      "text/plain": [
       "9"
      ]
     },
     "execution_count": 75,
     "metadata": {},
     "output_type": "execute_result"
    }
   ],
   "source": [
    "# максимальное количество прохождений обучений\n",
    "df_tutorial_finish_users_cnt['user_id_cnt'].max()"
   ]
  },
  {
   "cell_type": "code",
   "execution_count": 76,
   "metadata": {},
   "outputs": [],
   "source": [
    " # 1.2 - пользователи, закончившие обучение более 1 раза\n",
    "df_tutorial_finish_users_cnt_more1 = df_tutorial_finish_users_cnt.drop(df_tutorial_finish_users_cnt[df_tutorial_finish_users_cnt['user_id_cnt'] == 1].index)\n",
    "tutorial_finish_users_cnt_more1 = df_tutorial_finish_users_cnt_more1['user_id']\n",
    "df_tutorial_finish_users_cnt_2 = df_tutorial_finish_users_cnt[df_tutorial_finish_users_cnt['user_id_cnt'] == 2]\n",
    "tutorial_finish_users_cnt_2 = df_tutorial_finish_users_cnt_2['user_id']\n",
    "df_tutorial_finish_users_cnt_3 = df_tutorial_finish_users_cnt[df_tutorial_finish_users_cnt['user_id_cnt'] == 3]\n",
    "tutorial_finish_users_cnt_3 = df_tutorial_finish_users_cnt_3['user_id']\n",
    "df_tutorial_finish_users_cnt_4 = df_tutorial_finish_users_cnt[df_tutorial_finish_users_cnt['user_id_cnt'] == 4]\n",
    "tutorial_finish_users_cnt_4 = df_tutorial_finish_users_cnt_4['user_id']\n",
    "df_tutorial_finish_users_cnt_5 = df_tutorial_finish_users_cnt[df_tutorial_finish_users_cnt['user_id_cnt'] == 5]\n",
    "tutorial_finish_users_cnt_5 = df_tutorial_finish_users_cnt_5['user_id']\n",
    "df_tutorial_finish_users_cnt_6 = df_tutorial_finish_users_cnt[df_tutorial_finish_users_cnt['user_id_cnt'] == 6]\n",
    "tutorial_finish_users_cnt_6 = df_tutorial_finish_users_cnt_6['user_id']\n",
    "df_tutorial_finish_users_cnt_7 = df_tutorial_finish_users_cnt[df_tutorial_finish_users_cnt['user_id_cnt'] == 7]\n",
    "tutorial_finish_users_cnt_7 = df_tutorial_finish_users_cnt_7['user_id']\n",
    "df_tutorial_finish_users_cnt_8 = df_tutorial_finish_users_cnt[df_tutorial_finish_users_cnt['user_id_cnt'] == 8]\n",
    "tutorial_finish_users_cnt_8 = df_tutorial_finish_users_cnt_8['user_id']\n",
    "df_tutorial_finish_users_cnt_9 = df_tutorial_finish_users_cnt[df_tutorial_finish_users_cnt['user_id_cnt'] == 9]\n",
    "tutorial_finish_users_cnt_9 = df_tutorial_finish_users_cnt_9['user_id']"
   ]
  },
  {
   "cell_type": "code",
   "execution_count": 77,
   "metadata": {},
   "outputs": [],
   "source": [
    " # 2 - пользователи, которые не начинали обучение или которые начинали, но не закончили\n",
    "df_wo_tutorial_finish_users = total_events_df_2018.drop(total_events_df_2018[total_events_df_2018['user_id'].isin(tutorial_finish_users)].index)\n",
    "wo_tutorial_finish_users = df_wo_tutorial_finish_users['user_id'].unique()"
   ]
  },
  {
   "cell_type": "code",
   "execution_count": 78,
   "metadata": {},
   "outputs": [
    {
     "name": "stdout",
     "output_type": "stream",
     "text": [
      "Процент оплативших пользователей в группе 1 - завершившие обучение: 14.12%\n",
      "\n",
      "Процент оплативших пользователей в группе 1.1 - завершившие 1 раз: 14.26%\n",
      "\n",
      "Процент оплативших пользователей в группе 1.2 total - завершившие более 1 раза: 13.60%\n",
      "\n",
      "Процент оплативших пользователей в группе 1.2-2 - завершившие 2 раза: 13.78%\n",
      "\n",
      "Процент оплативших пользователей в группе 1.2-3 - завершившие 3 раза: 12.75%\n",
      "\n",
      "Процент оплативших пользователей в группе 1.2-4 - завершившие 4 раза: 10.67%\n",
      "\n",
      "Процент оплативших пользователей в группе 1.2-5 - завершившие 5 раз: 16.24%\n",
      "\n",
      "Процент оплативших пользователей в группе 1.2-6 - завершившие 6 раз: 14.85%\n",
      "\n",
      "Процент оплативших пользователей в группе 1.2-7 - завершившие 7 раз: 15.46%\n",
      "\n",
      "Процент оплативших пользователей в группе 1.2-8 - завершившие 8 раза: 11.11%\n",
      "\n",
      "Процент оплативших пользователей в группе 1.2-9 - завершившие 9 раза: 18.18%\n",
      "\n",
      "Процент оплативших пользователей в группе 2 - не завершившие обчучение: 1.58%\n",
      "\n"
     ]
    }
   ],
   "source": [
    "user_groups = [\n",
    "    {'1 - завершившие обучение': tutorial_finish_users_unique},\n",
    "    {'1.1 - завершившие 1 раз': tutorial_finish_users_cnt_1},\n",
    "    {'1.2 total - завершившие более 1 раза': tutorial_finish_users_cnt_more1},\n",
    "    {'1.2-2 - завершившие 2 раза': tutorial_finish_users_cnt_2},\n",
    "    {'1.2-3 - завершившие 3 раза': tutorial_finish_users_cnt_3},\n",
    "    {'1.2-4 - завершившие 4 раза': tutorial_finish_users_cnt_4},\n",
    "    {'1.2-5 - завершившие 5 раз': tutorial_finish_users_cnt_5},\n",
    "    {'1.2-6 - завершившие 6 раз': tutorial_finish_users_cnt_6},\n",
    "    {'1.2-7 - завершившие 7 раз': tutorial_finish_users_cnt_7},\n",
    "    {'1.2-8 - завершившие 8 раза': tutorial_finish_users_cnt_8},\n",
    "    {'1.2-9 - завершившие 9 раза': tutorial_finish_users_cnt_9},\n",
    "    {'2 - не завершившие обчучение': wo_tutorial_finish_users}\n",
    "]\n",
    "\n",
    "l = []\n",
    "user_group_list = []\n",
    "\n",
    "for group in user_groups:\n",
    "    user_group = list(group.keys())[0] # gr_1 и gr_2\n",
    "    users_in_group = group[user_group] # tutorial_finish_users_cnt_1, ... \n",
    "    count_of_users_in_group = len(users_in_group)\n",
    "    purchase_df_slice = purchase_df_2018[purchase_df_2018['user_id'].isin(users_in_group)]\n",
    "    percent_of_purchase = purchase_df_slice['user_id'].nunique()/count_of_users_in_group\n",
    "    print ('Процент оплативших пользователей в группе {}: {:.2%}'.format(user_group,percent_of_purchase))\n",
    "    print ()\n",
    "    percent_of_purchase = round (percent_of_purchase *100, 2)\n",
    "    l.append (percent_of_purchase)\n",
    "    user_group_list.append (user_group)"
   ]
  },
  {
   "cell_type": "markdown",
   "metadata": {},
   "source": [
    "##### Визуализация"
   ]
  },
  {
   "cell_type": "code",
   "execution_count": 79,
   "metadata": {},
   "outputs": [
    {
     "data": {
      "text/html": [
       "<div>\n",
       "<style scoped>\n",
       "    .dataframe tbody tr th:only-of-type {\n",
       "        vertical-align: middle;\n",
       "    }\n",
       "\n",
       "    .dataframe tbody tr th {\n",
       "        vertical-align: top;\n",
       "    }\n",
       "\n",
       "    .dataframe thead th {\n",
       "        text-align: right;\n",
       "    }\n",
       "</style>\n",
       "<table border=\"1\" class=\"dataframe\">\n",
       "  <thead>\n",
       "    <tr style=\"text-align: right;\">\n",
       "      <th></th>\n",
       "      <th>% оплат</th>\n",
       "    </tr>\n",
       "  </thead>\n",
       "  <tbody>\n",
       "    <tr>\n",
       "      <th>1 - завершившие обучение</th>\n",
       "      <td>14.12</td>\n",
       "    </tr>\n",
       "    <tr>\n",
       "      <th>1.1 - завершившие 1 раз</th>\n",
       "      <td>14.26</td>\n",
       "    </tr>\n",
       "    <tr>\n",
       "      <th>1.2 total - завершившие более 1 раза</th>\n",
       "      <td>13.60</td>\n",
       "    </tr>\n",
       "    <tr>\n",
       "      <th>1.2-2 - завершившие 2 раза</th>\n",
       "      <td>13.78</td>\n",
       "    </tr>\n",
       "    <tr>\n",
       "      <th>1.2-3 - завершившие 3 раза</th>\n",
       "      <td>12.75</td>\n",
       "    </tr>\n",
       "    <tr>\n",
       "      <th>1.2-4 - завершившие 4 раза</th>\n",
       "      <td>10.67</td>\n",
       "    </tr>\n",
       "    <tr>\n",
       "      <th>1.2-5 - завершившие 5 раз</th>\n",
       "      <td>16.24</td>\n",
       "    </tr>\n",
       "    <tr>\n",
       "      <th>1.2-6 - завершившие 6 раз</th>\n",
       "      <td>14.85</td>\n",
       "    </tr>\n",
       "    <tr>\n",
       "      <th>1.2-7 - завершившие 7 раз</th>\n",
       "      <td>15.46</td>\n",
       "    </tr>\n",
       "    <tr>\n",
       "      <th>1.2-8 - завершившие 8 раза</th>\n",
       "      <td>11.11</td>\n",
       "    </tr>\n",
       "    <tr>\n",
       "      <th>1.2-9 - завершившие 9 раза</th>\n",
       "      <td>18.18</td>\n",
       "    </tr>\n",
       "    <tr>\n",
       "      <th>2 - не завершившие обчучение</th>\n",
       "      <td>1.58</td>\n",
       "    </tr>\n",
       "  </tbody>\n",
       "</table>\n",
       "</div>"
      ],
      "text/plain": [
       "                                      % оплат\n",
       "1 - завершившие обучение                14.12\n",
       "1.1 - завершившие 1 раз                 14.26\n",
       "1.2 total - завершившие более 1 раза    13.60\n",
       "1.2-2 - завершившие 2 раза              13.78\n",
       "1.2-3 - завершившие 3 раза              12.75\n",
       "1.2-4 - завершившие 4 раза              10.67\n",
       "1.2-5 - завершившие 5 раз               16.24\n",
       "1.2-6 - завершившие 6 раз               14.85\n",
       "1.2-7 - завершившие 7 раз               15.46\n",
       "1.2-8 - завершившие 8 раза              11.11\n",
       "1.2-9 - завершившие 9 раза              18.18\n",
       "2 - не завершившие обчучение             1.58"
      ]
     },
     "execution_count": 79,
     "metadata": {},
     "output_type": "execute_result"
    }
   ],
   "source": [
    "d = {}\n",
    "d ['% оплат'] = l\n",
    "df_for_visualisation = pd.DataFrame(d, index = user_group_list)\n",
    "df_for_visualisation"
   ]
  },
  {
   "cell_type": "code",
   "execution_count": 80,
   "metadata": {},
   "outputs": [
    {
     "data": {
      "text/plain": [
       "<AxesSubplot:title={'center':'% оплат по группам'}>"
      ]
     },
     "execution_count": 80,
     "metadata": {},
     "output_type": "execute_result"
    },
    {
     "data": {
      "image/png": "[encoded data removed]",
      "text/plain": [
       "<Figure size 432x288 with 1 Axes>"
      ]
     },
     "metadata": {
      "needs_background": "light"
     },
     "output_type": "display_data"
    }
   ],
   "source": [
    "df_for_visualisation.plot (kind = 'bar', grid = True, title = '% оплат по группам')"
   ]
  },
  {
   "cell_type": "code",
   "execution_count": 81,
   "metadata": {},
   "outputs": [
    {
     "data": {
      "image/png": "[encoded data removed]",
      "text/plain": [
       "<Figure size 432x288 with 1 Axes>"
      ]
     },
     "metadata": {},
     "output_type": "display_data"
    }
   ],
   "source": [
    "fig1, ax1 = plt.subplots()\n",
    "\n",
    "plt.pie(l,labels=user_group_list,autopct='%1.1f%%')\n",
    "plt.axis('equal')\n",
    "ax1.legend(loc='upper left', bbox_to_anchor=(1.5, 1.0))\n",
    "plt.show()"
   ]
  },
  {
   "cell_type": "markdown",
   "metadata": {},
   "source": [
    "# Выводы по гипотезе 2: Cуществует ли зависимость между вероятностью оплаты и количеством обучений, которые начинал или завершал пользователь.</b> \n",
    "<br>✔ Нужно доказать, что успешное обучение само по себе влияет на оплату, и без разницы, каким этапом оно шло.\n",
    "<br>✔ Кажется, повторное прохождение обучения положительно влияет на оплату, верно?\n",
    "\n",
    "<br>Подтвердилась гипотеза, что успешное обучение само по себе влияет на оплату. Так, в группе 1, где пользователи прошли обучение хотя бы 1 раз процент оплат 14.12%, а в группе 2, где пользователи не заканчивали обучение процент оплат всего 1.58%\n",
    "\n",
    "<br>Повторное прохождение обучения не всегда положительно влияет на оплату. В группе 1.1, где пользователи завершали обучение всего 1 раз  процент оплаты 14.26%, а у пользователей,которые проходили обучение от 2 до 9 раз общий процент оплат составляет 13.6% и колеблется среди групп от 10.67% (пользователи,прошедшие обучение 4 раза) до 18.18% (пользователи, прошедшие обучение 9 раз). В целом, непонятно, почему пользователи могут проходить обучение стольчасто. Заметно, что процент оплат у пользователей,которые прошли обучение 5,6,7 и 9 раз процент оплат выше,чем общий процент по группе пользователей, прошедших обучение. Нужно выяснять причины такого частого обращения к обучнию. Вероятн не все понятно во flow игры."
   ]
  },
  {
   "cell_type": "markdown",
   "metadata": {},
   "source": [
    "# Проверка гипотезы 3: Как часто пользователи начинают обучение после того, как они выбрали уровень сложности. \n",
    "✔ Это позволит нам понять, насколько прозрачен процесс взаимодействия с игрой: если пользователи после выбора уровня сложности обращаются к обучению, значит, работа с приложением непонятна.\n",
    "<br>✔ Если пользователь сначала выбирает сложность обучения, будет ли он потом проходить обучение?"
   ]
  },
  {
   "cell_type": "markdown",
   "metadata": {},
   "source": [
    "Для ответа на вопрос необходимо найти количество пользователей, которые начали обучение после выбора уровня сложности и посчитать % таких пользователей от общего числа пользователей\n",
    "\n",
    "Чтобы выделить пользователей, которые начали обучение после выбора уровня сложности, необходимо:\n",
    "1. Создать датасет со всеми событиями level_choice (event_type,start_time,user_id)\n",
    "2. Создать датасет со всеми событиями tutorial_start (event_type,start_time,user_id)\n",
    "3. Объединить эти датасеты по user_id с помощью merge\n",
    "4. Отфильтровать те строки, где время события tutorial_start позже события level_choice"
   ]
  },
  {
   "cell_type": "code",
   "execution_count": 82,
   "metadata": {},
   "outputs": [
    {
     "data": {
      "text/plain": [
       "1.0"
      ]
     },
     "execution_count": 82,
     "metadata": {},
     "output_type": "execute_result"
    }
   ],
   "source": [
    "level_choice_df = total_events_df_2018[total_events_df_2018['event_type'] == 'level_choice']\n",
    "level_choice_df = level_choice_df[['user_id','event_type','start_time']].rename(columns={'event_type':'level_choice_event','start_time':'level_choice_time'})\n",
    "level_choice_df['user_id'].value_counts().mean()"
   ]
  },
  {
   "cell_type": "code",
   "execution_count": 83,
   "metadata": {},
   "outputs": [
    {
     "data": {
      "text/plain": [
       "1.522179119581717"
      ]
     },
     "execution_count": 83,
     "metadata": {},
     "output_type": "execute_result"
    }
   ],
   "source": [
    "tutorial_start_df = total_events_df_2018[total_events_df_2018['event_type'] == 'tutorial_start']\n",
    "tutorial_start_df = tutorial_start_df[['user_id','event_type','start_time']].rename(columns={'event_type':'tutorial_start_event','start_time':'tutorial_start_time'})\n",
    "tutorial_start_df['user_id'].value_counts().mean()"
   ]
  },
  {
   "cell_type": "markdown",
   "metadata": {},
   "source": [
    "Как видно,некоторые пользователи начинали обучение несколько раз, но уровень сложности выбирали только один раз"
   ]
  },
  {
   "cell_type": "code",
   "execution_count": 84,
   "metadata": {},
   "outputs": [
    {
     "data": {
      "text/html": [
       "<div>\n",
       "<style scoped>\n",
       "    .dataframe tbody tr th:only-of-type {\n",
       "        vertical-align: middle;\n",
       "    }\n",
       "\n",
       "    .dataframe tbody tr th {\n",
       "        vertical-align: top;\n",
       "    }\n",
       "\n",
       "    .dataframe thead th {\n",
       "        text-align: right;\n",
       "    }\n",
       "</style>\n",
       "<table border=\"1\" class=\"dataframe\">\n",
       "  <thead>\n",
       "    <tr style=\"text-align: right;\">\n",
       "      <th></th>\n",
       "      <th>user_id</th>\n",
       "      <th>level_choice_event</th>\n",
       "      <th>level_choice_time</th>\n",
       "      <th>tutorial_start_event</th>\n",
       "      <th>tutorial_start_time</th>\n",
       "    </tr>\n",
       "  </thead>\n",
       "  <tbody>\n",
       "    <tr>\n",
       "      <th>0</th>\n",
       "      <td>27835</td>\n",
       "      <td>level_choice</td>\n",
       "      <td>2018-01-01 20:37:22</td>\n",
       "      <td>tutorial_start</td>\n",
       "      <td>2018-01-01 15:00:51</td>\n",
       "    </tr>\n",
       "    <tr>\n",
       "      <th>1</th>\n",
       "      <td>27839</td>\n",
       "      <td>level_choice</td>\n",
       "      <td>2018-01-01 22:37:50</td>\n",
       "      <td>tutorial_start</td>\n",
       "      <td>2018-01-01 19:11:36</td>\n",
       "    </tr>\n",
       "    <tr>\n",
       "      <th>2</th>\n",
       "      <td>27840</td>\n",
       "      <td>level_choice</td>\n",
       "      <td>2018-01-02 05:18:42</td>\n",
       "      <td>tutorial_start</td>\n",
       "      <td>2018-01-02 02:07:07</td>\n",
       "    </tr>\n",
       "    <tr>\n",
       "      <th>3</th>\n",
       "      <td>27845</td>\n",
       "      <td>level_choice</td>\n",
       "      <td>2018-01-02 06:19:18</td>\n",
       "      <td>tutorial_start</td>\n",
       "      <td>2018-01-02 03:03:44</td>\n",
       "    </tr>\n",
       "    <tr>\n",
       "      <th>4</th>\n",
       "      <td>27845</td>\n",
       "      <td>level_choice</td>\n",
       "      <td>2018-01-02 06:19:18</td>\n",
       "      <td>tutorial_start</td>\n",
       "      <td>2018-01-02 07:08:00</td>\n",
       "    </tr>\n",
       "  </tbody>\n",
       "</table>\n",
       "</div>"
      ],
      "text/plain": [
       "   user_id level_choice_event   level_choice_time tutorial_start_event  \\\n",
       "0    27835       level_choice 2018-01-01 20:37:22       tutorial_start   \n",
       "1    27839       level_choice 2018-01-01 22:37:50       tutorial_start   \n",
       "2    27840       level_choice 2018-01-02 05:18:42       tutorial_start   \n",
       "3    27845       level_choice 2018-01-02 06:19:18       tutorial_start   \n",
       "4    27845       level_choice 2018-01-02 06:19:18       tutorial_start   \n",
       "\n",
       "  tutorial_start_time  \n",
       "0 2018-01-01 15:00:51  \n",
       "1 2018-01-01 19:11:36  \n",
       "2 2018-01-02 02:07:07  \n",
       "3 2018-01-02 03:03:44  \n",
       "4 2018-01-02 07:08:00  "
      ]
     },
     "execution_count": 84,
     "metadata": {},
     "output_type": "execute_result"
    }
   ],
   "source": [
    "merged_tutorial_start_level_choice_df = level_choice_df.merge(tutorial_start_df,on='user_id',how='left')\n",
    "merged_tutorial_start_level_choice_df.head()"
   ]
  },
  {
   "cell_type": "code",
   "execution_count": 85,
   "metadata": {},
   "outputs": [
    {
     "name": "stdout",
     "output_type": "stream",
     "text": [
      "Процент пользователей, которые начали обучение после выбора уровня сложности (среди всех пользователей): 6.96%\n",
      "__________\n",
      "Количество пользователей, которые начали обучение в разбивке по количеству обучений\n",
      "   tutorial_start_count  user_id_count\n",
      "0                     1            819\n",
      "1                     2            229\n",
      "2                     3            116\n",
      "3                     4             77\n",
      "4                     5             57\n",
      "5                     6             51\n",
      "6                     7             28\n",
      "7                     8              9\n"
     ]
    }
   ],
   "source": [
    "# оставляем только тех пользователей, которые начинали обучение после выбора уровня сложности\n",
    "tutorial_start_after_level_choice_df = \\\n",
    "    merged_tutorial_start_level_choice_df[merged_tutorial_start_level_choice_df['level_choice_time'] < \\\n",
    "                                          merged_tutorial_start_level_choice_df['tutorial_start_time']]\n",
    "# считаем % пользователей\n",
    "percent_of_users_start_tutorial_after_level_choice = tutorial_start_after_level_choice_df['user_id'].nunique() / total_events_df_2018['user_id'].nunique()\n",
    "print ('Процент пользователей, которые начали обучение после выбора уровня сложности (среди всех пользователей): {:.2%}'\\\n",
    "       .format(percent_of_users_start_tutorial_after_level_choice))\n",
    "print ('__________')\n",
    "# дополнительно\n",
    "# считаем сколько раз начинали эти пользователи обучениe\n",
    "tutorial_start_after_level_choice_by_user = tutorial_start_after_level_choice_df.groupby(['user_id'])['tutorial_start_time'].count()\n",
    "tutorial_start_after_level_choice_by_user_df = tutorial_start_after_level_choice_by_user.reset_index()\n",
    "# считаем сколько пользователей начинало обучение в разбивке по количеству начатых обучений\n",
    "tutorial_start_after_level_choice_by_user_count = tutorial_start_after_level_choice_by_user_df.groupby(['tutorial_start_time'])['user_id'].count()\n",
    "tutorial_start_after_level_choice_by_user_count_df = tutorial_start_after_level_choice_by_user_count.reset_index()\n",
    "tutorial_start_after_level_choice_by_user_count_df.columns = ['tutorial_start_count', 'user_id_count']\n",
    "print ('Количество пользователей, которые начали обучение в разбивке по количеству обучений')\n",
    "print (tutorial_start_after_level_choice_by_user_count_df)"
   ]
  },
  {
   "cell_type": "code",
   "execution_count": 86,
   "metadata": {},
   "outputs": [
    {
     "data": {
      "text/html": [
       "<div>\n",
       "<style scoped>\n",
       "    .dataframe tbody tr th:only-of-type {\n",
       "        vertical-align: middle;\n",
       "    }\n",
       "\n",
       "    .dataframe tbody tr th {\n",
       "        vertical-align: top;\n",
       "    }\n",
       "\n",
       "    .dataframe thead th {\n",
       "        text-align: right;\n",
       "    }\n",
       "</style>\n",
       "<table border=\"1\" class=\"dataframe\">\n",
       "  <thead>\n",
       "    <tr style=\"text-align: right;\">\n",
       "      <th></th>\n",
       "      <th>tutorial_start_count</th>\n",
       "      <th>user_id_count</th>\n",
       "      <th>percent</th>\n",
       "    </tr>\n",
       "  </thead>\n",
       "  <tbody>\n",
       "    <tr>\n",
       "      <th>0</th>\n",
       "      <td>1</td>\n",
       "      <td>819</td>\n",
       "      <td>59.090909</td>\n",
       "    </tr>\n",
       "    <tr>\n",
       "      <th>1</th>\n",
       "      <td>2</td>\n",
       "      <td>229</td>\n",
       "      <td>16.522367</td>\n",
       "    </tr>\n",
       "    <tr>\n",
       "      <th>2</th>\n",
       "      <td>3</td>\n",
       "      <td>116</td>\n",
       "      <td>8.369408</td>\n",
       "    </tr>\n",
       "    <tr>\n",
       "      <th>3</th>\n",
       "      <td>4</td>\n",
       "      <td>77</td>\n",
       "      <td>5.555556</td>\n",
       "    </tr>\n",
       "    <tr>\n",
       "      <th>4</th>\n",
       "      <td>5</td>\n",
       "      <td>57</td>\n",
       "      <td>4.112554</td>\n",
       "    </tr>\n",
       "    <tr>\n",
       "      <th>5</th>\n",
       "      <td>6</td>\n",
       "      <td>51</td>\n",
       "      <td>3.679654</td>\n",
       "    </tr>\n",
       "    <tr>\n",
       "      <th>6</th>\n",
       "      <td>7</td>\n",
       "      <td>28</td>\n",
       "      <td>2.020202</td>\n",
       "    </tr>\n",
       "    <tr>\n",
       "      <th>7</th>\n",
       "      <td>8</td>\n",
       "      <td>9</td>\n",
       "      <td>0.649351</td>\n",
       "    </tr>\n",
       "  </tbody>\n",
       "</table>\n",
       "</div>"
      ],
      "text/plain": [
       "   tutorial_start_count  user_id_count    percent\n",
       "0                     1            819  59.090909\n",
       "1                     2            229  16.522367\n",
       "2                     3            116   8.369408\n",
       "3                     4             77   5.555556\n",
       "4                     5             57   4.112554\n",
       "5                     6             51   3.679654\n",
       "6                     7             28   2.020202\n",
       "7                     8              9   0.649351"
      ]
     },
     "execution_count": 86,
     "metadata": {},
     "output_type": "execute_result"
    }
   ],
   "source": [
    "tutorial_start_after_level_choice_by_user_count_df['percent'] = ( tutorial_start_after_level_choice_by_user_count_df['user_id_count']\\\n",
    "    /tutorial_start_after_level_choice_by_user_count_df['user_id_count'].sum() )*100\n",
    "tutorial_start_after_level_choice_by_user_count_df"
   ]
  },
  {
   "cell_type": "markdown",
   "metadata": {},
   "source": [
    "# Выводы по гипотезе 3: Как часто пользователи начинают обучение после того, как они выбрали уровень сложности. \n",
    "✔ Почти 7% пользователей (6,96%) возвращаются к обучению после выбора уровня сложности. Причем некоторые из них делают это не единократно. Так, 59% пользователей, которые возвараются к обучению после выбора уровня сложности делают это только 1 раз, но остальные пользователи из данной группы возвращались к обучению от 2 до 8 раз. Такие показатели могут говорить о том, что процесс взаимодействия с игрой не до конца прозрачен и значит, что работа с приложением в некоторых случаях непонятна."
   ]
  }
 ],
 "metadata": {
  "kernelspec": {
   "display_name": "Python 3",
   "language": "python",
   "name": "python3"
  },
  "language_info": {
   "codemirror_mode": {
    "name": "ipython",
    "version": 3
   },
   "file_extension": ".py",
   "mimetype": "text/x-python",
   "name": "python",
   "nbconvert_exporter": "python",
   "pygments_lexer": "ipython3",
   "version": "3.8.5"
  }
 },
 "nbformat": 4,
 "nbformat_minor": 4
}
